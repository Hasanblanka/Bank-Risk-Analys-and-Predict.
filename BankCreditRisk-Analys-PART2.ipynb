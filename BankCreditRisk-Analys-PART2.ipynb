{
 "cells": [
  {
   "cell_type": "code",
   "execution_count": 111,
   "id": "7026b254-a187-4d71-a7dd-62a2832a18b4",
   "metadata": {},
   "outputs": [],
   "source": [
    "import numpy as np\n",
    "import pandas as pd\n",
    "import seaborn as sns\n",
    "import matplotlib.pyplot as plt\n",
    "import warnings\n",
    "warnings.filterwarnings(action = 'ignore')"
   ]
  },
  {
   "cell_type": "code",
   "execution_count": 112,
   "id": "d374e743-25b7-4349-9829-763d10ee2e0c",
   "metadata": {},
   "outputs": [],
   "source": [
    "dataset = pd.read_csv('bankloans.csv')"
   ]
  },
  {
   "cell_type": "code",
   "execution_count": 113,
   "id": "9c6b4197-ee2a-4bfb-899c-07ac830e0a6b",
   "metadata": {},
   "outputs": [
    {
     "data": {
      "text/html": [
       "<div>\n",
       "<style scoped>\n",
       "    .dataframe tbody tr th:only-of-type {\n",
       "        vertical-align: middle;\n",
       "    }\n",
       "\n",
       "    .dataframe tbody tr th {\n",
       "        vertical-align: top;\n",
       "    }\n",
       "\n",
       "    .dataframe thead th {\n",
       "        text-align: right;\n",
       "    }\n",
       "</style>\n",
       "<table border=\"1\" class=\"dataframe\">\n",
       "  <thead>\n",
       "    <tr style=\"text-align: right;\">\n",
       "      <th></th>\n",
       "      <th>Yash</th>\n",
       "      <th>Tehsil</th>\n",
       "      <th>Ish Tecrubesi</th>\n",
       "      <th>Gelir</th>\n",
       "      <th>Gelirxerc nisbeti</th>\n",
       "      <th>Kredit borcu</th>\n",
       "      <th>Diger borc</th>\n",
       "      <th>Gecikme</th>\n",
       "    </tr>\n",
       "  </thead>\n",
       "  <tbody>\n",
       "    <tr>\n",
       "      <th>0</th>\n",
       "      <td>41</td>\n",
       "      <td>3</td>\n",
       "      <td>17</td>\n",
       "      <td>176</td>\n",
       "      <td>9.3</td>\n",
       "      <td>11.36</td>\n",
       "      <td>5.01</td>\n",
       "      <td>1</td>\n",
       "    </tr>\n",
       "    <tr>\n",
       "      <th>1</th>\n",
       "      <td>27</td>\n",
       "      <td>1</td>\n",
       "      <td>10</td>\n",
       "      <td>31</td>\n",
       "      <td>17.3</td>\n",
       "      <td>1.36</td>\n",
       "      <td>4.00</td>\n",
       "      <td>0</td>\n",
       "    </tr>\n",
       "    <tr>\n",
       "      <th>2</th>\n",
       "      <td>40</td>\n",
       "      <td>1</td>\n",
       "      <td>15</td>\n",
       "      <td>55</td>\n",
       "      <td>5.5</td>\n",
       "      <td>0.86</td>\n",
       "      <td>2.17</td>\n",
       "      <td>0</td>\n",
       "    </tr>\n",
       "    <tr>\n",
       "      <th>3</th>\n",
       "      <td>41</td>\n",
       "      <td>1</td>\n",
       "      <td>15</td>\n",
       "      <td>120</td>\n",
       "      <td>2.9</td>\n",
       "      <td>2.66</td>\n",
       "      <td>0.82</td>\n",
       "      <td>0</td>\n",
       "    </tr>\n",
       "    <tr>\n",
       "      <th>4</th>\n",
       "      <td>24</td>\n",
       "      <td>2</td>\n",
       "      <td>2</td>\n",
       "      <td>28</td>\n",
       "      <td>17.3</td>\n",
       "      <td>1.79</td>\n",
       "      <td>3.06</td>\n",
       "      <td>1</td>\n",
       "    </tr>\n",
       "  </tbody>\n",
       "</table>\n",
       "</div>"
      ],
      "text/plain": [
       "   Yash  Tehsil  Ish Tecrubesi  Gelir  Gelirxerc nisbeti  Kredit borcu  \\\n",
       "0    41       3             17    176                9.3         11.36   \n",
       "1    27       1             10     31               17.3          1.36   \n",
       "2    40       1             15     55                5.5          0.86   \n",
       "3    41       1             15    120                2.9          2.66   \n",
       "4    24       2              2     28               17.3          1.79   \n",
       "\n",
       "   Diger borc  Gecikme  \n",
       "0        5.01        1  \n",
       "1        4.00        0  \n",
       "2        2.17        0  \n",
       "3        0.82        0  \n",
       "4        3.06        1  "
      ]
     },
     "execution_count": 113,
     "metadata": {},
     "output_type": "execute_result"
    }
   ],
   "source": [
    "dataset.head()"
   ]
  },
  {
   "cell_type": "code",
   "execution_count": 114,
   "id": "24611799-3f03-4a42-92bc-0976f33ac775",
   "metadata": {},
   "outputs": [
    {
     "name": "stdout",
     "output_type": "stream",
     "text": [
      "<class 'pandas.core.frame.DataFrame'>\n",
      "RangeIndex: 1150 entries, 0 to 1149\n",
      "Data columns (total 8 columns):\n",
      " #   Column             Non-Null Count  Dtype  \n",
      "---  ------             --------------  -----  \n",
      " 0   Yash               1150 non-null   int64  \n",
      " 1   Tehsil             1150 non-null   int64  \n",
      " 2   Ish Tecrubesi      1150 non-null   int64  \n",
      " 3   Gelir              1150 non-null   int64  \n",
      " 4   Gelirxerc nisbeti  1150 non-null   float64\n",
      " 5   Kredit borcu       1150 non-null   float64\n",
      " 6   Diger borc         1150 non-null   float64\n",
      " 7   Gecikme            1150 non-null   int64  \n",
      "dtypes: float64(3), int64(5)\n",
      "memory usage: 72.0 KB\n"
     ]
    }
   ],
   "source": [
    "dataset.info()"
   ]
  },
  {
   "cell_type": "code",
   "execution_count": 115,
   "id": "ebfafcca-aa8e-4be5-84ec-15a3dc401c8b",
   "metadata": {},
   "outputs": [
    {
     "name": "stdout",
     "output_type": "stream",
     "text": [
      "Yash                 0\n",
      "Tehsil               0\n",
      "Ish Tecrubesi        0\n",
      "Gelir                0\n",
      "Gelirxerc nisbeti    0\n",
      "Kredit borcu         0\n",
      "Diger borc           0\n",
      "Gecikme              0\n",
      "dtype: int64\n"
     ]
    }
   ],
   "source": [
    "print(dataset.isnull().sum())"
   ]
  },
  {
   "cell_type": "code",
   "execution_count": 116,
   "id": "c7abbc23-a514-47a7-b802-c655148022d6",
   "metadata": {},
   "outputs": [],
   "source": [
    "x = dataset.iloc[:,:-1].values\n",
    "y = dataset.iloc[:,-1].values"
   ]
  },
  {
   "cell_type": "code",
   "execution_count": 117,
   "id": "fc100d24-f618-4b9c-bd54-eb2b99b4f5c1",
   "metadata": {},
   "outputs": [],
   "source": [
    "from sklearn.model_selection import train_test_split\n",
    "x_train,x_test,y_train,y_test = train_test_split(x , y , train_size = 0.2 , random_state = 9 )"
   ]
  },
  {
   "cell_type": "code",
   "execution_count": 118,
   "id": "55a526c6-214e-49e4-b6b2-303f2a70ccab",
   "metadata": {},
   "outputs": [],
   "source": [
    "from sklearn.preprocessing import StandardScaler\n",
    "scaler = StandardScaler()\n",
    "x_train_scaled = scaler.fit_transform(x_train)\n",
    "x_test_scaled = scaler.transform(x_test)"
   ]
  },
  {
   "cell_type": "code",
   "execution_count": 207,
   "id": "600a58d1-7135-4921-aefc-f76081dc6fdb",
   "metadata": {},
   "outputs": [],
   "source": [
    "from sklearn.metrics import accuracy_score, precision_score, recall_score, f1_score\n",
    "\n",
    "def model_train(model):\n",
    "    model.fit(x_train, y_train)\n",
    "    \n",
    "    y_pred = model.predict(x_test)\n",
    "\n",
    "    \n",
    "    accuracy = accuracy_score(y_test, y_pred)\n",
    "    precision = precision_score(y_test, y_pred)\n",
    "    recall = recall_score(y_test, y_pred)\n",
    "    f1 = f1_score(y_test, y_pred)\n",
    "    y_test_reshaped = y_test.reshape(-1, 1)\n",
    "    y_pred_reshaped = y_pred.reshape(-1, 1)\n",
    "    \n",
    "    print(f\"Accuracy: {accuracy:.2f}, Precision: {precision:.2f}, Recall: {recall:.2f}, F1 Score: {f1:.2f}\")\n",
    "    result = np.concatenate((y_test_reshaped, y_pred_reshaped), axis=1)\n",
    "    print(result)\n",
    "    return accuracy, precision, recall, f1\n"
   ]
  },
  {
   "cell_type": "code",
   "execution_count": 209,
   "id": "7e076c73-167b-4d35-ab68-f49c4503e4b9",
   "metadata": {},
   "outputs": [],
   "source": [
    "from sklearn.linear_model import LogisticRegression\n",
    "model_logistic = LogisticRegression()"
   ]
  },
  {
   "cell_type": "code",
   "execution_count": 211,
   "id": "ac0cab97-399d-40aa-af76-1a66c35ac835",
   "metadata": {},
   "outputs": [
    {
     "name": "stdout",
     "output_type": "stream",
     "text": [
      "Accuracy: 0.83, Precision: 0.49, Recall: 0.16, F1 Score: 0.25\n",
      "[[0 0]\n",
      " [0 0]\n",
      " [0 0]\n",
      " ...\n",
      " [0 0]\n",
      " [0 0]\n",
      " [0 0]]\n"
     ]
    },
    {
     "data": {
      "text/plain": [
       "(0.8326086956521739,\n",
       " 0.49019607843137253,\n",
       " 0.16339869281045752,\n",
       " 0.24509803921568626)"
      ]
     },
     "execution_count": 211,
     "metadata": {},
     "output_type": "execute_result"
    }
   ],
   "source": [
    "model_train(model_logistic)"
   ]
  },
  {
   "cell_type": "code",
   "execution_count": 213,
   "id": "573cb118-4884-4513-949f-babadd96e62f",
   "metadata": {},
   "outputs": [],
   "source": [
    "from sklearn.tree import DecisionTreeClassifier\n",
    "model_tree = DecisionTreeClassifier()"
   ]
  },
  {
   "cell_type": "code",
   "execution_count": 215,
   "id": "87e7e7ef-cee7-4d0e-af62-576d0ae46bd0",
   "metadata": {},
   "outputs": [
    {
     "name": "stdout",
     "output_type": "stream",
     "text": [
      "Accuracy: 0.81, Precision: 0.41, Recall: 0.33, F1 Score: 0.36\n",
      "[[0 0]\n",
      " [0 0]\n",
      " [0 0]\n",
      " ...\n",
      " [0 0]\n",
      " [0 0]\n",
      " [0 0]]\n"
     ]
    },
    {
     "data": {
      "text/plain": [
       "(0.808695652173913,\n",
       " 0.4065040650406504,\n",
       " 0.32679738562091504,\n",
       " 0.36231884057971014)"
      ]
     },
     "execution_count": 215,
     "metadata": {},
     "output_type": "execute_result"
    }
   ],
   "source": [
    "model_train(model_tree)"
   ]
  },
  {
   "cell_type": "code",
   "execution_count": 217,
   "id": "9d2fda71-8287-45f2-a9c5-4a7afc9d3074",
   "metadata": {},
   "outputs": [],
   "source": [
    "from sklearn.ensemble import RandomForestClassifier\n",
    "model_forest = RandomForestClassifier()"
   ]
  },
  {
   "cell_type": "code",
   "execution_count": 219,
   "id": "d1d38940-9e0c-452b-a1bf-11f05c27c2e9",
   "metadata": {},
   "outputs": [
    {
     "name": "stdout",
     "output_type": "stream",
     "text": [
      "Accuracy: 0.84, Precision: 0.52, Recall: 0.15, F1 Score: 0.23\n",
      "[[0 0]\n",
      " [0 0]\n",
      " [0 0]\n",
      " ...\n",
      " [0 0]\n",
      " [0 0]\n",
      " [0 0]]\n"
     ]
    },
    {
     "data": {
      "text/plain": [
       "(0.8358695652173913, 0.5227272727272727, 0.1503267973856209, 0.233502538071066)"
      ]
     },
     "execution_count": 219,
     "metadata": {},
     "output_type": "execute_result"
    }
   ],
   "source": [
    "model_train(model_forest)"
   ]
  },
  {
   "cell_type": "code",
   "execution_count": null,
   "id": "c54ae771-273f-4711-b3b2-4d18824262ef",
   "metadata": {},
   "outputs": [],
   "source": []
  }
 ],
 "metadata": {
  "kernelspec": {
   "display_name": "Python 3 (ipykernel)",
   "language": "python",
   "name": "python3"
  },
  "language_info": {
   "codemirror_mode": {
    "name": "ipython",
    "version": 3
   },
   "file_extension": ".py",
   "mimetype": "text/x-python",
   "name": "python",
   "nbconvert_exporter": "python",
   "pygments_lexer": "ipython3",
   "version": "3.12.4"
  }
 },
 "nbformat": 4,
 "nbformat_minor": 5
}
